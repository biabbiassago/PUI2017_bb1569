{
 "cells": [
  {
   "cell_type": "markdown",
   "metadata": {},
   "source": [
    "### K-mean clustering algorithm\n",
    "\n",
    "In this notebook we construct and visualize the k-mean clsutering algorithm. We start with two separate set of points. We then \n",
    "\n",
    "1. Chose the number of clusters. In this case, we pick 2.\n",
    "2. Set an initial guess for the center. For illustration purposes, we pick a really bad starting point. \n",
    "3. For each point, we check to which center it is closer, and assign it to its cluster \n",
    "4. We calculate new centers with the points we have assigned to that custer.\n",
    "5. Repeat 3 and 4 untile convergence, i.e. until the new centers calculate are equal to the old centers."
   ]
  },
  {
   "cell_type": "code",
   "execution_count": 1,
   "metadata": {},
   "outputs": [
    {
     "name": "stdout",
     "output_type": "stream",
     "text": [
      "Populating the interactive namespace from numpy and matplotlib\n"
     ]
    }
   ],
   "source": [
    "import numpy as np\n",
    "import pylab as pl\n",
    "from IPython.display import display, clear_output\n",
    "import time\n",
    "%pylab inline"
   ]
  },
  {
   "cell_type": "code",
   "execution_count": 2,
   "metadata": {},
   "outputs": [],
   "source": [
    "np.random.seed(333)"
   ]
  },
  {
   "cell_type": "code",
   "execution_count": 3,
   "metadata": {},
   "outputs": [],
   "source": [
    "random_1 = np.random.randn(2,100)"
   ]
  },
  {
   "cell_type": "code",
   "execution_count": 4,
   "metadata": {},
   "outputs": [
    {
     "data": {
      "text/plain": [
       "(2, 100)"
      ]
     },
     "execution_count": 4,
     "metadata": {},
     "output_type": "execute_result"
    }
   ],
   "source": [
    "random_1.shape"
   ]
  },
  {
   "cell_type": "code",
   "execution_count": 5,
   "metadata": {},
   "outputs": [],
   "source": [
    "random_2 = np.random.randn(2,100) + 2"
   ]
  },
  {
   "cell_type": "code",
   "execution_count": 6,
   "metadata": {},
   "outputs": [
    {
     "data": {
      "image/png": "[encoded data removed]",
      "text/plain": [
       "<matplotlib.figure.Figure at 0x7f35ee126390>"
      ]
     },
     "metadata": {},
     "output_type": "display_data"
    }
   ],
   "source": [
    "pl.plot(random_1[0], random_1[1], '.')\n",
    "pl.plot(random_2[0], random_2[1], '.')\n",
    "pl.xlabel('x')\n",
    "pl.ylabel('y');"
   ]
  },
  {
   "cell_type": "markdown",
   "metadata": {},
   "source": [
    "## 1. Choose the number of clusters\n",
    "\n",
    "nclusters = 2 "
   ]
  },
  {
   "cell_type": "code",
   "execution_count": 7,
   "metadata": {},
   "outputs": [],
   "source": [
    "random_stack = np.hstack([random_1, random_2])"
   ]
  },
  {
   "cell_type": "markdown",
   "metadata": {},
   "source": [
    "## 2. Set a guess for initial centers"
   ]
  },
  {
   "cell_type": "code",
   "execution_count": 8,
   "metadata": {},
   "outputs": [],
   "source": [
    "# fix the centers to a poor initial guess\n",
    "centers = np.array([[0.,-1.], [0,-2]]) \n",
    "\n",
    "# a better initial guess would have been\n",
    "#minval, maxval = min(random_stack[0]), max(random_stack[0])\n",
    "#np.array((np.random.rand(4)   * (maxval - minval)) + minval).reshape(2,2)"
   ]
  },
  {
   "cell_type": "code",
   "execution_count": 9,
   "metadata": {},
   "outputs": [],
   "source": [
    "#define the distance metric - just Eucledian distance\n",
    "def distmetric(x, y, center):\n",
    "    distmetric = np.sqrt( (x - center[0])**2 + (y - center[1])**2)\n",
    "    return distmetric"
   ]
  },
  {
   "cell_type": "markdown",
   "metadata": {},
   "source": [
    "## 3. Check for each point which center is closer"
   ]
  },
  {
   "cell_type": "code",
   "execution_count": 10,
   "metadata": {},
   "outputs": [
    {
     "data": {
      "text/plain": [
       "array([ True,  True,  True,  True,  True,  True,  True,  True,  True,\n",
       "        True,  True,  True,  True,  True,  True,  True,  True,  True,\n",
       "        True,  True,  True,  True,  True,  True,  True, False,  True,\n",
       "        True,  True,  True, False,  True,  True,  True,  True,  True,\n",
       "        True, False,  True,  True,  True,  True,  True,  True,  True,\n",
       "        True,  True,  True,  True,  True,  True,  True,  True,  True,\n",
       "        True,  True,  True,  True,  True,  True,  True,  True,  True,\n",
       "        True,  True,  True,  True,  True,  True,  True,  True,  True,\n",
       "        True,  True,  True,  True,  True,  True,  True,  True,  True,\n",
       "        True,  True,  True,  True,  True,  True,  True,  True, False,\n",
       "        True,  True,  True,  True,  True,  True,  True,  True,  True,  True], dtype=bool)"
      ]
     },
     "execution_count": 10,
     "metadata": {},
     "output_type": "execute_result"
    }
   ],
   "source": [
    "cl1 = distmetric(random_1[0], random_1[1], centers[0]) < distmetric(random_1[0], random_1[1], centers[1])\n",
    "cl2 = distmetric(random_2[0], random_2[1], centers[0]) < distmetric(random_2[0], random_2[1], centers[1])\n",
    "\n",
    "cl1"
   ]
  },
  {
   "cell_type": "markdown",
   "metadata": {},
   "source": [
    "## 4. Calculate new centers"
   ]
  },
  {
   "cell_type": "code",
   "execution_count": 11,
   "metadata": {},
   "outputs": [
    {
     "name": "stdout",
     "output_type": "stream",
     "text": [
      "old center\n",
      " [[ 0. -1.]\n",
      " [ 0. -2.]] \n",
      "new center\n",
      " [[ 0.96972306  1.06522176]\n",
      " [ 1.02400655 -2.10176012]]\n"
     ]
    }
   ],
   "source": [
    "newc = np.array(\n",
    "    [np.hstack([random_1[:, cl1], random_2[:, cl2]]).mean(axis=1), \n",
    "        np.hstack([random_1[:, ~cl1], random_2[:, ~cl2]]).mean(axis=1)])\n",
    "print (\"old center\\n\", centers, \"\\nnew center\\n\", newc)"
   ]
  },
  {
   "cell_type": "markdown",
   "metadata": {},
   "source": [
    "## 5. Iterate 3&4 untile convergence"
   ]
  },
  {
   "cell_type": "code",
   "execution_count": 12,
   "metadata": {},
   "outputs": [
    {
     "data": {
      "image/png": "[encoded data removed]",
      "text/plain": [
       "<matplotlib.figure.Figure at 0x7f35ebaf5160>"
      ]
     },
     "metadata": {},
     "output_type": "display_data"
    },
    {
     "name": "stdout",
     "output_type": "stream",
     "text": [
      "Iteration Number : 8\n",
      "old centers : [[ 2.01522567  1.93589473]\n",
      " [-0.09470755  0.04900058]]\n",
      "new centers : [[ 2.01522567  1.93589473]\n",
      " [-0.09470755  0.04900058]]\n"
     ]
    },
    {
     "data": {
      "image/png": "[encoded data removed]",
      "text/plain": [
       "<matplotlib.figure.Figure at 0x7f35ebaf5160>"
      ]
     },
     "metadata": {},
     "output_type": "display_data"
    }
   ],
   "source": [
    "fig, ax = plt.subplots()\n",
    "\n",
    "centers = np.array([[0.,-1.], [0,-2]]) \n",
    "\n",
    "l, = ax.plot(random_1[0], random_1[1], '.')\n",
    "l2, = ax.plot(random_2[0], random_2[1], '.')\n",
    "l3, = ax.plot(centers[0,0], centers[0,1], '*', ms=10)\n",
    "l4, = ax.plot(centers[1,0], centers[1,1], '*', ms=10)\n",
    "ax.set_xlabel('x')\n",
    "ax.set_ylabel('y');\n",
    "\n",
    "\n",
    "l.set_data(random_1[0], random_1[1])\n",
    "l2.set_data(random_2[0], random_2[1])\n",
    "l3.set_data(centers[0,0], centers[0,1])\n",
    "l4.set_data(centers[1,0], centers[1,1])\n",
    "time.sleep(1)\n",
    "clear_output(wait=True)\n",
    "display(fig)\n",
    "\n",
    "\n",
    "#cl1 = distmetric(random_1[0], random_1[1], centers[0]) < distmetric(random_1[0], random_1[1], centers[1])\n",
    "#cl2 = distmetric(random_2[0], random_2[1], centers[0]) < distmetric(random_2[0], random_2[1], centers[1])\n",
    "\n",
    "#newc = np.array(\n",
    "    #[np.hstack([random_1[:, cl1], random_2[:, cl2]]).mean(axis=1), \n",
    "       #np.hstack([random_1[:, ~cl1], random_2[:, ~cl2]]).mean(axis=1)])\n",
    "\n",
    "print(\"Iteration Number : {}\".format(0))\n",
    "print(\"old centers : {}\".format(centers))\n",
    "print(\"new centers : {}\".format(newc))\n",
    "\n",
    "iterat = 0\n",
    "while ( not(np.array_equal(newc,centers))) and iterat  < 10 :\n",
    "    centers = newc\n",
    "    cl1 = distmetric(random_1[0], random_1[1], centers[0]) < distmetric(random_1[0], random_1[1], centers[1])\n",
    "    cl2 = distmetric(random_2[0], random_2[1], centers[0]) < distmetric(random_2[0], random_2[1], centers[1])\n",
    "    newc = np.array([np.hstack([random_1[:, cl1], random_2[:, cl2]]).mean(axis=1),np.hstack([random_1[:, ~cl1], random_2[:, ~cl2]]).mean(axis=1)])\n",
    "    l.set_data(random_1[0], random_1[1])\n",
    "    l2.set_data(random_2[0], random_2[1])\n",
    "    l3.set_data(newc[0,0], newc[0,1])\n",
    "    l4.set_data(newc[1,0], newc[1,1])\n",
    "    time.sleep(0.5)\n",
    "    clear_output(wait=True)\n",
    "    display(fig)\n",
    "    print(\"Iteration Number : {}\".format(iterat+1))\n",
    "    print(\"old centers : {}\".format(centers))\n",
    "    print(\"new centers : {}\".format(newc))\n",
    "    iterat = iterat + 1\n",
    "\n",
    "pl.show()"
   ]
  },
  {
   "cell_type": "markdown",
   "metadata": {},
   "source": [
    "__Figure 1__ : Illustrating K-mean clustering, from a purposely chosen \"bad\" initial guess till convergence. "
   ]
  },
  {
   "cell_type": "markdown",
   "metadata": {},
   "source": [
    "## ASH Score 100"
   ]
  },
  {
   "cell_type": "code",
   "execution_count": null,
   "metadata": {},
   "outputs": [],
   "source": []
  }
 ],
 "metadata": {
  "kernelspec": {
   "display_name": "PUI2016_Python3",
   "language": "python",
   "name": "pui2016_python3"
  },
  "language_info": {
   "codemirror_mode": {
    "name": "ipython",
    "version": 3
   },
   "file_extension": ".py",
   "mimetype": "text/x-python",
   "name": "python",
   "nbconvert_exporter": "python",
   "pygments_lexer": "ipython3",
   "version": "3.5.4"
  }
 },
 "nbformat": 4,
 "nbformat_minor": 2
}
